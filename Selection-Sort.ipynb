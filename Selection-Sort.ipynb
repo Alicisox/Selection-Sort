{
 "cells": [
  {
   "cell_type": "code",
   "execution_count": null,
   "metadata": {},
   "outputs": [],
   "source": [
    "# for import libraries"
   ]
  },
  {
   "cell_type": "code",
   "execution_count": 68,
   "metadata": {},
   "outputs": [],
   "source": [
    "def selection_sort(arr):\n",
    "    \"\"\"\n",
    "    Sort list by Selection Sort\n",
    "    Select the lowest value and swap its into sorted list\n",
    "    With run-time complexity of Ο(n^2)\n",
    "    \n",
    "    Arg:\n",
    "    arr: list. The python list that contains only integer that want to be sorted.\n",
    "    \n",
    "    Return:\n",
    "    arr: list. return sorted list by Selection Sort\n",
    "    \n",
    "    \"\"\"\n",
    "    for i in range(len(arr)): \n",
    "        min_pos = i\n",
    "        for j in range(i+1, len(arr)): # search for lowest position\n",
    "            if arr[j] < arr[min_pos]:\n",
    "                min_pos = j\n",
    "        if i != min_pos: # to save computation power (same minimum position)\n",
    "            tmp = arr[i] # swap\n",
    "            arr[i] = arr[min_pos]\n",
    "            arr[min_pos] = tmp\n",
    "    return arr"
   ]
  },
  {
   "cell_type": "code",
   "execution_count": 69,
   "metadata": {},
   "outputs": [
    {
     "data": {
      "text/plain": [
       "[1, 2, 4, 5, 10]"
      ]
     },
     "execution_count": 69,
     "metadata": {},
     "output_type": "execute_result"
    }
   ],
   "source": [
    "items = [4,2,10,5,1]\n",
    "selection_sort(items)"
   ]
  },
  {
   "cell_type": "code",
   "execution_count": null,
   "metadata": {},
   "outputs": [],
   "source": []
  }
 ],
 "metadata": {
  "kernelspec": {
   "display_name": "Python 3",
   "language": "python",
   "name": "python3"
  },
  "language_info": {
   "codemirror_mode": {
    "name": "ipython",
    "version": 3
   },
   "file_extension": ".py",
   "mimetype": "text/x-python",
   "name": "python",
   "nbconvert_exporter": "python",
   "pygments_lexer": "ipython3",
   "version": "3.8.5"
  }
 },
 "nbformat": 4,
 "nbformat_minor": 4
}
